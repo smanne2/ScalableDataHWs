{
 "cells": [
  {
   "cell_type": "code",
   "execution_count": 16,
   "metadata": {},
   "outputs": [
    {
     "data": {
      "image/png": "[encoded data removed]",
      "text/plain": [
       "<Figure size 432x288 with 1 Axes>"
      ]
     },
     "metadata": {},
     "output_type": "display_data"
    },
    {
     "name": "stdout",
     "output_type": "stream",
     "text": [
      "Median Age :  42\n"
     ]
    }
   ],
   "source": [
    "import csv\n",
    "from datetime import date\n",
    "import collections\n",
    "import numpy as np\n",
    "import matplotlib.pyplot as plt\n",
    "      \n",
    "total = 0\n",
    "age = []\n",
    "count = {}\n",
    "\n",
    "with open(\"citibike.csv\", 'r') as f:\n",
    "    reader = csv.DictReader(f)\n",
    "    for row in reader:\n",
    "        if row['usertype']=='Subscriber':\n",
    "            b_year = row['birth_year']\n",
    "            age.append(date.today().year - int(b_year))\n",
    "            count[b_year] = count.get(b_year, 0)+1\n",
    "            total+=1\n",
    "\n",
    "plt.hist(age)\n",
    "plt.xlabel(\"Age\")\n",
    "plt.title(\"Histogram of Customer Ages\")\n",
    "plt.ylabel(\"Frequency\")\n",
    "plt.show()\n",
    "\n",
    "\n",
    "d = collections.OrderedDict(sorted(count.items()))\n",
    "median_age = 0\n",
    "agg = 0\n",
    "\n",
    "for m,a in d.items():\n",
    "    agg += a\n",
    "    if agg*2 > total:\n",
    "        median = m\n",
    "        median_age = date.today().year - int(median)\n",
    "        break\n",
    "\n",
    "print(\"Median Age : \",median_age)"
   ]
  }
 ],
 "metadata": {
  "kernelspec": {
   "display_name": "Python 3",
   "language": "python",
   "name": "python3"
  },
  "language_info": {
   "codemirror_mode": {
    "name": "ipython",
    "version": 3
   },
   "file_extension": ".py",
   "mimetype": "text/x-python",
   "name": "python",
   "nbconvert_exporter": "python",
   "pygments_lexer": "ipython3",
   "version": "3.6.5"
  }
 },
 "nbformat": 4,
 "nbformat_minor": 2
}
