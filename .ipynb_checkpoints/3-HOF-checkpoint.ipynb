{
 "cells": [
  {
   "cell_type": "code",
   "execution_count": 1,
   "metadata": {},
   "outputs": [],
   "source": [
    "import csv"
   ]
  },
  {
   "cell_type": "code",
   "execution_count": 2,
   "metadata": {},
   "outputs": [],
   "source": [
    "def first_birth_years(reader):\n",
    "    currentDay = ''\n",
    "    for row in reader:\n",
    "        if (currentDay != row['starttime'].split(' ')[0]):\n",
    "            yield row\n",
    "            currentDay = row['starttime'].split(' ')[0]"
   ]
  },
  {
   "cell_type": "code",
   "execution_count": 3,
   "metadata": {},
   "outputs": [
    {
     "name": "stdout",
     "output_type": "stream",
     "text": [
      "['1978', '1992', '1982', '1969', '1971', '1989', '1963']\n"
     ]
    }
   ],
   "source": [
    "x =[]\n",
    "with open(\"citibike.csv\", 'r') as fi:\n",
    "    reader = csv.DictReader(fi)\n",
    "    for row in first_birth_years(reader):\n",
    "        x.append(','.join(map(row.get, reader.fieldnames[15:-1])))\n",
    "    print(x)"
   ]
  }
 ],
 "metadata": {
  "kernelspec": {
   "display_name": "Python 3",
   "language": "python",
   "name": "python3"
  },
  "language_info": {
   "codemirror_mode": {
    "name": "ipython",
    "version": 3
   },
   "file_extension": ".py",
   "mimetype": "text/x-python",
   "name": "python",
   "nbconvert_exporter": "python",
   "pygments_lexer": "ipython3",
   "version": "3.6.5"
  }
 },
 "nbformat": 4,
 "nbformat_minor": 2
}
